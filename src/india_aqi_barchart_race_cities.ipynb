{
 "cells": [
  {
   "cell_type": "markdown",
   "metadata": {},
   "source": [
    "### Import Libraries"
   ]
  },
  {
   "cell_type": "code",
   "execution_count": 30,
   "metadata": {},
   "outputs": [],
   "source": [
    "import pandas as pd\n",
    "import matplotlib.colorbar\n",
    "import matplotlib.pyplot as plt\n",
    "import matplotlib\n",
    "matplotlib.use(\"Agg\")\n",
    "import plotly.graph_objects as go\n",
    "import plotly.express as px\n",
    "import bar_chart_race as bcr"
   ]
  },
  {
   "cell_type": "code",
   "execution_count": 31,
   "metadata": {},
   "outputs": [],
   "source": [
    "import os\n",
    "import glob\n",
    "import datetime"
   ]
  },
  {
   "cell_type": "code",
   "execution_count": 32,
   "metadata": {},
   "outputs": [],
   "source": [
    "from utility_India_AQI import concat_and_sort, out_filename_india_aqi_city\n"
   ]
  },
  {
   "cell_type": "markdown",
   "metadata": {},
   "source": [
    "### Data Analysis and Preparation"
   ]
  },
  {
   "cell_type": "markdown",
   "metadata": {},
   "source": [
    "> The Datasets were sourced from: [National Air Quality Index - India](https://airquality.cpcb.gov.in/AQI_India_Iframe/)"
   ]
  },
  {
   "cell_type": "code",
   "execution_count": 33,
   "metadata": {},
   "outputs": [],
   "source": [
    "dir_parent = os.path.dirname(os.getcwd())\n",
    "dir_data = os.path.join(dir_parent, 'data/')\n",
    "dir_animations = os.path.join(dir_parent, 'animations/')\n",
    "\n",
    "dir_hour12 = os.path.join(dir_data, 'hour_12/')\n",
    "dir_hour23 = os.path.join(dir_data, 'hour_23/')"
   ]
  },
  {
   "cell_type": "markdown",
   "metadata": {},
   "source": [
    "#### Prep Year/Month/Date/Hour to read"
   ]
  },
  {
   "cell_type": "code",
   "execution_count": 34,
   "metadata": {},
   "outputs": [],
   "source": [
    "file_names = []\n",
    "for subdir in os.listdir(dir_data):\n",
    "    if subdir.startswith('hour'):\n",
    "        subdir_path = os.path.join(dir_data, subdir)\n",
    "        for filename in os.listdir(subdir_path):\n",
    "            file_names.append(os.path.join(subdir, filename))"
   ]
  },
  {
   "cell_type": "code",
   "execution_count": 35,
   "metadata": {},
   "outputs": [],
   "source": [
    "filename_part1 = 'AQI_all_station'\n",
    "filename_part_last = '_00_00Z.xlsx'"
   ]
  },
  {
   "cell_type": "markdown",
   "metadata": {},
   "source": [
    "### Prepare Final DataFrame"
   ]
  },
  {
   "cell_type": "markdown",
   "metadata": {},
   "source": [
    "##### Process DataFrames"
   ]
  },
  {
   "cell_type": "code",
   "execution_count": 36,
   "metadata": {},
   "outputs": [],
   "source": [
    "dfs = []\n",
    "dates = []\n",
    "for file_name in file_names:\n",
    "\n",
    "    # extract year, month, day, and hour from file name\n",
    "    year  = int(file_name[23:27])\n",
    "    month = int(file_name[28:30])\n",
    "    day   = int(file_name[31:33])\n",
    "    hour  = int(file_name[34:36])\n",
    "    dates.append(datetime.datetime(year, month, day))\n",
    "    \n",
    "    # read the file into a dataframe and append it to the list\n",
    "    df = pd.read_excel(os.path.join(dir_data, file_name), skiprows=3, sheet_name='Sheet1')\n",
    "    \n",
    "    df['State'] = df['State'].ffill()\n",
    "    df['City']  = df['City'].ffill()\n",
    "    \n",
    "    df['Year']  = df['Month'] = df['Day'] = df['Hour'] = None\n",
    "    \n",
    "    df.loc[:, 'Year']  = int(year)\n",
    "    df.loc[:, 'Month'] = int(month)\n",
    "    df.loc[:, 'Day']   = int(day)\n",
    "    df.loc[:, 'Hour']  = int(hour)\n",
    "\n",
    "    dfs.append(df)\n"
   ]
  },
  {
   "cell_type": "code",
   "execution_count": 37,
   "metadata": {},
   "outputs": [],
   "source": [
    "df_city_aqi = concat_and_sort(dfs, 'City')  #calling the utility function"
   ]
  },
  {
   "cell_type": "markdown",
   "metadata": {},
   "source": [
    "##### Define AQI Metrics"
   ]
  },
  {
   "cell_type": "code",
   "execution_count": 38,
   "metadata": {},
   "outputs": [],
   "source": [
    "AQI_MEDIAN = 'AQI_median'\n",
    "AQI_MEAN   = 'AQI_mean'\n",
    "AQI_MAX    = 'AQI_max'\n",
    "AQI_MIN    = 'AQI_min'"
   ]
  },
  {
   "cell_type": "code",
   "execution_count": 39,
   "metadata": {},
   "outputs": [],
   "source": [
    "AQI_METRIC = AQI_MEDIAN # change this to change the metric"
   ]
  },
  {
   "cell_type": "markdown",
   "metadata": {},
   "source": [
    "##### Prepare DataFrame compatible for _bar_chart_race_"
   ]
  },
  {
   "cell_type": "code",
   "execution_count": 40,
   "metadata": {},
   "outputs": [
    {
     "name": "stderr",
     "output_type": "stream",
     "text": [
      "C:\\Users\\inbox\\AppData\\Local\\Temp\\ipykernel_21188\\2871894427.py:5: SettingWithCopyWarning: \n",
      "A value is trying to be set on a copy of a slice from a DataFrame.\n",
      "Try using .loc[row_indexer,col_indexer] = value instead\n",
      "\n",
      "See the caveats in the documentation: https://pandas.pydata.org/pandas-docs/stable/user_guide/indexing.html#returning-a-view-versus-a-copy\n",
      "  df_subset[AQI_METRIC] = pd.to_numeric(df_subset[AQI_METRIC], errors='coerce')\n"
     ]
    }
   ],
   "source": [
    "# Subset the DataFrame to include only relevant columns\n",
    "df_subset = df_city_aqi[['City', 'Date', AQI_METRIC]]\n",
    "\n",
    "# Convert 'AQI' column to numeric\n",
    "df_subset[AQI_METRIC] = pd.to_numeric(df_subset[AQI_METRIC], errors='coerce')\n",
    "\n",
    "# Drop rows with missing values\n",
    "df_subset = df_subset.dropna(subset=['Date', AQI_METRIC])\n",
    "\n",
    "# Sort the DataFrame by 'Date' and 'AQI'\n",
    "df_subset = df_subset.sort_values(['Date', AQI_METRIC], ascending=[True, False])"
   ]
  },
  {
   "cell_type": "code",
   "execution_count": 41,
   "metadata": {},
   "outputs": [],
   "source": [
    "df_bcr = df_subset.pivot_table(values = AQI_METRIC,index = ['Date'], columns = 'City')"
   ]
  },
  {
   "cell_type": "code",
   "execution_count": 42,
   "metadata": {},
   "outputs": [],
   "source": [
    "# fill NaN values with median AQI value for that state on that date\n",
    "df_bcr = df_bcr.apply(lambda x: x.fillna(x.median()), axis=0)"
   ]
  },
  {
   "cell_type": "markdown",
   "metadata": {},
   "source": [
    "### Create Bar-Chart Race"
   ]
  },
  {
   "cell_type": "markdown",
   "metadata": {},
   "source": [
    "#### Select Date Range"
   ]
  },
  {
   "cell_type": "code",
   "execution_count": 43,
   "metadata": {},
   "outputs": [
    {
     "name": "stdout",
     "output_type": "stream",
     "text": [
      "2023-07-01 23:00:00\n",
      "2023-11-11 23:00:00\n"
     ]
    }
   ],
   "source": [
    "# Get the earliest and latest dates\n",
    "DEFAULT_START_DATE = min(df_bcr.index)\n",
    "DEFAULT_END_DATE = max(df_bcr.index)\n",
    "\n",
    "print(DEFAULT_START_DATE)\n",
    "print(DEFAULT_END_DATE)"
   ]
  },
  {
   "cell_type": "markdown",
   "metadata": {},
   "source": [
    "** Configure the following date variables to chose custom date-range. A string in 'YYYY-MM-DD' format would suffice."
   ]
  },
  {
   "cell_type": "code",
   "execution_count": 44,
   "metadata": {},
   "outputs": [],
   "source": [
    "start_date_str = DEFAULT_START_DATE \n",
    "end_date_str   = DEFAULT_END_DATE"
   ]
  },
  {
   "cell_type": "code",
   "execution_count": 45,
   "metadata": {},
   "outputs": [],
   "source": [
    "start_date = pd.to_datetime(start_date_str)\n",
    "end_date   = pd.to_datetime(end_date_str)\n",
    "\n",
    "df_bcr_filtered = df_bcr.loc[start_date:end_date]\n"
   ]
  },
  {
   "cell_type": "markdown",
   "metadata": {},
   "source": [
    "> [Choose color scheme](https://plotly.com/python/discrete-color/)"
   ]
  },
  {
   "cell_type": "markdown",
   "metadata": {},
   "source": [
    "#### Bar-Chart Race parameters"
   ]
  },
  {
   "cell_type": "code",
   "execution_count": 48,
   "metadata": {},
   "outputs": [],
   "source": [
    "ORIENTATION        = 'h'\n",
    "SORT               = 'desc'\n",
    "N_BARS             = 10 #8 #10\n",
    "STEPS_PER_PERIOD   = 10\n",
    "PERIOD_LENGTH      = 1000 #800 #1000 #default: 500\n",
    "INTERPOLATE_PERIOD = False\n",
    "LABEL_BARS         = True\n",
    "BAR_SIZE           = .50 #defaullt: .95\n",
    "PERIOD_LABEL       = True # {'x': .99, 'y': .25, 'ha': 'right', 'va': 'center'}\n",
    "CMAP               = 'Dark2' #default: 'dark12'   ['dark12', 'dark24', 'dark36', 'Pastel', 'Pastel1', 'Pastel2', 'Set1', 'Set2', 'Set3']\n",
    "\n",
    "TITLE = 'Median AQI of Indian Cities by Date and Time'\n",
    "\n",
    "DPI = 144 #300 #default: 144\n",
    "\n",
    "EXTENSION = '.mp4' #'.gif', '.mkv'"
   ]
  },
  {
   "cell_type": "markdown",
   "metadata": {},
   "source": [
    "#### Generate Animation and Save File"
   ]
  },
  {
   "cell_type": "code",
   "execution_count": 49,
   "metadata": {},
   "outputs": [
    {
     "name": "stderr",
     "output_type": "stream",
     "text": [
      "c:\\Users\\inbox\\anaconda3\\envs\\env_desidata_v1\\Lib\\site-packages\\bar_chart_race\\_make_chart.py:889: FutureWarning: Series.fillna with 'method' is deprecated and will raise in a future version. Use obj.ffill() or obj.bfill() instead.\n",
      "  df_values.iloc[:, 0] = df_values.iloc[:, 0].fillna(method='ffill')\n",
      "c:\\Users\\inbox\\anaconda3\\envs\\env_desidata_v1\\Lib\\site-packages\\bar_chart_race\\_make_chart.py:284: UserWarning: Glyph 127 () missing from current font.\n",
      "  fig.canvas.print_figure(io.BytesIO())\n",
      "c:\\Users\\inbox\\anaconda3\\envs\\env_desidata_v1\\Lib\\site-packages\\bar_chart_race\\_make_chart.py:284: UserWarning: Glyph 128 (\\x80) missing from current font.\n",
      "  fig.canvas.print_figure(io.BytesIO())\n",
      "c:\\Users\\inbox\\anaconda3\\envs\\env_desidata_v1\\Lib\\site-packages\\bar_chart_race\\_make_chart.py:284: UserWarning: Glyph 129 (\\x81) missing from current font.\n",
      "  fig.canvas.print_figure(io.BytesIO())\n",
      "c:\\Users\\inbox\\anaconda3\\envs\\env_desidata_v1\\Lib\\site-packages\\bar_chart_race\\_make_chart.py:284: UserWarning: Glyph 130 (\\x82) missing from current font.\n",
      "  fig.canvas.print_figure(io.BytesIO())\n",
      "c:\\Users\\inbox\\anaconda3\\envs\\env_desidata_v1\\Lib\\site-packages\\bar_chart_race\\_make_chart.py:284: UserWarning: Glyph 131 (\\x83) missing from current font.\n",
      "  fig.canvas.print_figure(io.BytesIO())\n",
      "c:\\Users\\inbox\\anaconda3\\envs\\env_desidata_v1\\Lib\\site-packages\\bar_chart_race\\_make_chart.py:284: UserWarning: Glyph 132 (\\x84) missing from current font.\n",
      "  fig.canvas.print_figure(io.BytesIO())\n",
      "c:\\Users\\inbox\\anaconda3\\envs\\env_desidata_v1\\Lib\\site-packages\\bar_chart_race\\_make_chart.py:284: UserWarning: Glyph 133 (\\x85) missing from current font.\n",
      "  fig.canvas.print_figure(io.BytesIO())\n",
      "c:\\Users\\inbox\\anaconda3\\envs\\env_desidata_v1\\Lib\\site-packages\\bar_chart_race\\_make_chart.py:284: UserWarning: Glyph 134 (\\x86) missing from current font.\n",
      "  fig.canvas.print_figure(io.BytesIO())\n",
      "c:\\Users\\inbox\\anaconda3\\envs\\env_desidata_v1\\Lib\\site-packages\\bar_chart_race\\_make_chart.py:284: UserWarning: Glyph 135 (\\x87) missing from current font.\n",
      "  fig.canvas.print_figure(io.BytesIO())\n",
      "c:\\Users\\inbox\\anaconda3\\envs\\env_desidata_v1\\Lib\\site-packages\\bar_chart_race\\_make_chart.py:284: UserWarning: Glyph 136 (\\x88) missing from current font.\n",
      "  fig.canvas.print_figure(io.BytesIO())\n",
      "c:\\Users\\inbox\\anaconda3\\envs\\env_desidata_v1\\Lib\\site-packages\\bar_chart_race\\_make_chart.py:284: UserWarning: Glyph 137 (\\x89) missing from current font.\n",
      "  fig.canvas.print_figure(io.BytesIO())\n",
      "c:\\Users\\inbox\\anaconda3\\envs\\env_desidata_v1\\Lib\\site-packages\\bar_chart_race\\_make_chart.py:284: UserWarning: Glyph 138 (\\x8a) missing from current font.\n",
      "  fig.canvas.print_figure(io.BytesIO())\n",
      "c:\\Users\\inbox\\anaconda3\\envs\\env_desidata_v1\\Lib\\site-packages\\bar_chart_race\\_make_chart.py:284: UserWarning: Glyph 139 (\\x8b) missing from current font.\n",
      "  fig.canvas.print_figure(io.BytesIO())\n",
      "c:\\Users\\inbox\\anaconda3\\envs\\env_desidata_v1\\Lib\\site-packages\\bar_chart_race\\_make_chart.py:284: UserWarning: Glyph 140 (\\x8c) missing from current font.\n",
      "  fig.canvas.print_figure(io.BytesIO())\n",
      "c:\\Users\\inbox\\anaconda3\\envs\\env_desidata_v1\\Lib\\site-packages\\bar_chart_race\\_make_chart.py:284: UserWarning: Glyph 141 (\\x8d) missing from current font.\n",
      "  fig.canvas.print_figure(io.BytesIO())\n",
      "c:\\Users\\inbox\\anaconda3\\envs\\env_desidata_v1\\Lib\\site-packages\\bar_chart_race\\_make_chart.py:284: UserWarning: Glyph 142 (\\x8e) missing from current font.\n",
      "  fig.canvas.print_figure(io.BytesIO())\n",
      "c:\\Users\\inbox\\anaconda3\\envs\\env_desidata_v1\\Lib\\site-packages\\bar_chart_race\\_make_chart.py:284: UserWarning: Glyph 143 (\\x8f) missing from current font.\n",
      "  fig.canvas.print_figure(io.BytesIO())\n",
      "c:\\Users\\inbox\\anaconda3\\envs\\env_desidata_v1\\Lib\\site-packages\\bar_chart_race\\_make_chart.py:284: UserWarning: Glyph 144 (\\x90) missing from current font.\n",
      "  fig.canvas.print_figure(io.BytesIO())\n",
      "c:\\Users\\inbox\\anaconda3\\envs\\env_desidata_v1\\Lib\\site-packages\\bar_chart_race\\_make_chart.py:284: UserWarning: Glyph 145 (\\x91) missing from current font.\n",
      "  fig.canvas.print_figure(io.BytesIO())\n",
      "c:\\Users\\inbox\\anaconda3\\envs\\env_desidata_v1\\Lib\\site-packages\\bar_chart_race\\_make_chart.py:284: UserWarning: Glyph 146 (\\x92) missing from current font.\n",
      "  fig.canvas.print_figure(io.BytesIO())\n",
      "c:\\Users\\inbox\\anaconda3\\envs\\env_desidata_v1\\Lib\\site-packages\\bar_chart_race\\_make_chart.py:284: UserWarning: Glyph 147 (\\x93) missing from current font.\n",
      "  fig.canvas.print_figure(io.BytesIO())\n",
      "c:\\Users\\inbox\\anaconda3\\envs\\env_desidata_v1\\Lib\\site-packages\\bar_chart_race\\_make_chart.py:284: UserWarning: Glyph 148 (\\x94) missing from current font.\n",
      "  fig.canvas.print_figure(io.BytesIO())\n",
      "c:\\Users\\inbox\\anaconda3\\envs\\env_desidata_v1\\Lib\\site-packages\\bar_chart_race\\_make_chart.py:284: UserWarning: Glyph 149 (\\x95) missing from current font.\n",
      "  fig.canvas.print_figure(io.BytesIO())\n",
      "c:\\Users\\inbox\\anaconda3\\envs\\env_desidata_v1\\Lib\\site-packages\\bar_chart_race\\_make_chart.py:284: UserWarning: Glyph 150 (\\x96) missing from current font.\n",
      "  fig.canvas.print_figure(io.BytesIO())\n",
      "c:\\Users\\inbox\\anaconda3\\envs\\env_desidata_v1\\Lib\\site-packages\\bar_chart_race\\_make_chart.py:284: UserWarning: Glyph 151 (\\x97) missing from current font.\n",
      "  fig.canvas.print_figure(io.BytesIO())\n",
      "c:\\Users\\inbox\\anaconda3\\envs\\env_desidata_v1\\Lib\\site-packages\\bar_chart_race\\_make_chart.py:284: UserWarning: Glyph 152 (\\x98) missing from current font.\n",
      "  fig.canvas.print_figure(io.BytesIO())\n",
      "c:\\Users\\inbox\\anaconda3\\envs\\env_desidata_v1\\Lib\\site-packages\\bar_chart_race\\_make_chart.py:284: UserWarning: Glyph 153 (\\x99) missing from current font.\n",
      "  fig.canvas.print_figure(io.BytesIO())\n",
      "c:\\Users\\inbox\\anaconda3\\envs\\env_desidata_v1\\Lib\\site-packages\\bar_chart_race\\_make_chart.py:284: UserWarning: Glyph 154 (\\x9a) missing from current font.\n",
      "  fig.canvas.print_figure(io.BytesIO())\n",
      "c:\\Users\\inbox\\anaconda3\\envs\\env_desidata_v1\\Lib\\site-packages\\bar_chart_race\\_make_chart.py:284: UserWarning: Glyph 155 (\\x9b) missing from current font.\n",
      "  fig.canvas.print_figure(io.BytesIO())\n",
      "c:\\Users\\inbox\\anaconda3\\envs\\env_desidata_v1\\Lib\\site-packages\\bar_chart_race\\_make_chart.py:284: UserWarning: Glyph 156 (\\x9c) missing from current font.\n",
      "  fig.canvas.print_figure(io.BytesIO())\n",
      "c:\\Users\\inbox\\anaconda3\\envs\\env_desidata_v1\\Lib\\site-packages\\bar_chart_race\\_make_chart.py:284: UserWarning: Glyph 157 (\\x9d) missing from current font.\n",
      "  fig.canvas.print_figure(io.BytesIO())\n",
      "c:\\Users\\inbox\\anaconda3\\envs\\env_desidata_v1\\Lib\\site-packages\\bar_chart_race\\_make_chart.py:284: UserWarning: Glyph 158 (\\x9e) missing from current font.\n",
      "  fig.canvas.print_figure(io.BytesIO())\n",
      "c:\\Users\\inbox\\anaconda3\\envs\\env_desidata_v1\\Lib\\site-packages\\bar_chart_race\\_make_chart.py:284: UserWarning: Glyph 159 (\\x9f) missing from current font.\n",
      "  fig.canvas.print_figure(io.BytesIO())\n",
      "c:\\Users\\inbox\\anaconda3\\envs\\env_desidata_v1\\Lib\\site-packages\\bar_chart_race\\_make_chart.py:286: UserWarning: set_ticklabels() should only be used with a fixed number of ticks, i.e. after set_ticks() or using a FixedLocator.\n",
      "  ax.set_yticklabels(self.df_values.columns)\n",
      "c:\\Users\\inbox\\anaconda3\\envs\\env_desidata_v1\\Lib\\site-packages\\bar_chart_race\\_make_chart.py:287: UserWarning: set_ticklabels() should only be used with a fixed number of ticks, i.e. after set_ticks() or using a FixedLocator.\n",
      "  ax.set_xticklabels([max_val] * len(ax.get_xticks()))\n",
      "c:\\Users\\inbox\\anaconda3\\envs\\env_desidata_v1\\Lib\\site-packages\\bar_chart_race\\_make_chart.py:226: UserWarning: Some of your columns never make an appearance in the animation. To reduce color repetition, set `filter_column_colors` to `True`\n",
      "  warnings.warn(\"Some of your columns never make an appearance in the animation. \"\n"
     ]
    }
   ],
   "source": [
    "bcr.bar_chart_race(df=df_bcr_filtered, \n",
    "                    n_bars=N_BARS, \n",
    "                    sort=SORT,\n",
    "                    title=TITLE,\n",
    "                    filename=dir_animations + out_filename_india_aqi_city(extension=EXTENSION),\n",
    "                    orientation=ORIENTATION,\n",
    "                    steps_per_period=STEPS_PER_PERIOD,\n",
    "                    period_length=PERIOD_LENGTH,\n",
    "                    interpolate_period=INTERPOLATE_PERIOD,\n",
    "                    label_bars=LABEL_BARS,\n",
    "                    bar_size=BAR_SIZE,\n",
    "                    period_label=PERIOD_LABEL,\n",
    "                    cmap=CMAP,\n",
    "                    dpi=DPI)\n"
   ]
  }
 ],
 "metadata": {
  "kernelspec": {
   "display_name": "env_desidata_v1",
   "language": "python",
   "name": "python3"
  },
  "language_info": {
   "codemirror_mode": {
    "name": "ipython",
    "version": 3
   },
   "file_extension": ".py",
   "mimetype": "text/x-python",
   "name": "python",
   "nbconvert_exporter": "python",
   "pygments_lexer": "ipython3",
   "version": "3.11.6"
  }
 },
 "nbformat": 4,
 "nbformat_minor": 2
}
