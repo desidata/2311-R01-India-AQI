{
 "cells": [
  {
   "cell_type": "markdown",
   "metadata": {},
   "source": [
    "## Import Libraries"
   ]
  },
  {
   "cell_type": "code",
   "execution_count": 1,
   "metadata": {},
   "outputs": [],
   "source": [
    "import pandas as pd\n",
    "import matplotlib.pyplot as plt"
   ]
  },
  {
   "cell_type": "code",
   "execution_count": 2,
   "metadata": {},
   "outputs": [],
   "source": [
    "import os"
   ]
  },
  {
   "cell_type": "code",
   "execution_count": 4,
   "metadata": {},
   "outputs": [],
   "source": [
    "dir_parent = os.path.dirname(os.getcwd())\n",
    "dir_data = os.path.join(dir_parent, 'data/')\n",
    "\n",
    "dir_hour12 = os.path.join(dir_data, 'hour_12/')\n",
    "dir_hour23 = os.path.join(dir_data, 'hour_23/')"
   ]
  },
  {
   "cell_type": "markdown",
   "metadata": {},
   "source": [
    "## Data Analysis"
   ]
  },
  {
   "cell_type": "markdown",
   "metadata": {},
   "source": [
    "#### Prep Year/Month/Date/Hour to read"
   ]
  },
  {
   "cell_type": "code",
   "execution_count": 6,
   "metadata": {},
   "outputs": [],
   "source": [
    "# get all file names in the dir_hour12 directory in a list\n",
    "file_names = os.listdir(dir_hour12)"
   ]
  },
  {
   "cell_type": "code",
   "execution_count": 15,
   "metadata": {},
   "outputs": [],
   "source": [
    "hour_12 = '12'\n",
    "hour_23 = '23'"
   ]
  },
  {
   "cell_type": "code",
   "execution_count": 14,
   "metadata": {},
   "outputs": [],
   "source": [
    "day_29 = '29'"
   ]
  },
  {
   "cell_type": "code",
   "execution_count": 7,
   "metadata": {},
   "outputs": [],
   "source": [
    "month_10 = '10'\n",
    "month_11 = '11'"
   ]
  },
  {
   "cell_type": "code",
   "execution_count": 12,
   "metadata": {},
   "outputs": [],
   "source": [
    "year_2023 = '2023'"
   ]
  },
  {
   "cell_type": "code",
   "execution_count": 16,
   "metadata": {},
   "outputs": [],
   "source": [
    "day   = day_29\n",
    "month = month_10\n",
    "year  = year_2023\n",
    "\n",
    "hour = hour_12"
   ]
  },
  {
   "cell_type": "code",
   "execution_count": 18,
   "metadata": {},
   "outputs": [],
   "source": [
    "\n",
    "date_str = year + '_' + month + '_' + day_29 + 'T'"
   ]
  },
  {
   "cell_type": "code",
   "execution_count": 19,
   "metadata": {},
   "outputs": [],
   "source": [
    "filename_part1 = 'AQI_all_station'\n",
    "filename_part_last = '_00_00Z.xlsx'\n",
    "\n",
    "filename = filename_part1 + date_str + hour + filename_part_last"
   ]
  },
  {
   "cell_type": "markdown",
   "metadata": {},
   "source": [
    "#### Read into DataFrame"
   ]
  },
  {
   "cell_type": "code",
   "execution_count": 26,
   "metadata": {},
   "outputs": [],
   "source": [
    "df_231029_12 = pd.read_excel(dir_hour12 + filename, skiprows=3, sheet_name='Sheet1')"
   ]
  },
  {
   "cell_type": "code",
   "execution_count": 35,
   "metadata": {},
   "outputs": [],
   "source": [
    "df_231029_12['State'] = df_231029_12['State'].fillna(method='ffill')\n",
    "df_231029_12['City']  = df_231029_12['City'].fillna(method='ffill')"
   ]
  },
  {
   "cell_type": "code",
   "execution_count": 36,
   "metadata": {},
   "outputs": [
    {
     "data": {
      "text/html": [
       "<div>\n",
       "<style scoped>\n",
       "    .dataframe tbody tr th:only-of-type {\n",
       "        vertical-align: middle;\n",
       "    }\n",
       "\n",
       "    .dataframe tbody tr th {\n",
       "        vertical-align: top;\n",
       "    }\n",
       "\n",
       "    .dataframe thead th {\n",
       "        text-align: right;\n",
       "    }\n",
       "</style>\n",
       "<table border=\"1\" class=\"dataframe\">\n",
       "  <thead>\n",
       "    <tr style=\"text-align: right;\">\n",
       "      <th></th>\n",
       "      <th>S.No.</th>\n",
       "      <th>State</th>\n",
       "      <th>City</th>\n",
       "      <th>Station Name</th>\n",
       "      <th>Current AQI value</th>\n",
       "    </tr>\n",
       "  </thead>\n",
       "  <tbody>\n",
       "    <tr>\n",
       "      <th>0</th>\n",
       "      <td>1</td>\n",
       "      <td>Andhra Pradesh</td>\n",
       "      <td>Amaravati</td>\n",
       "      <td>Secretariat, Amaravati - APPCB</td>\n",
       "      <td>112</td>\n",
       "    </tr>\n",
       "    <tr>\n",
       "      <th>1</th>\n",
       "      <td>2</td>\n",
       "      <td>Andhra Pradesh</td>\n",
       "      <td>Anantapur</td>\n",
       "      <td>Gulzarpet, Anantapur - APPCB</td>\n",
       "      <td>Insufficient data available in last 24 hours.</td>\n",
       "    </tr>\n",
       "    <tr>\n",
       "      <th>2</th>\n",
       "      <td>3</td>\n",
       "      <td>Andhra Pradesh</td>\n",
       "      <td>Chittoor</td>\n",
       "      <td>Gangineni Cheruvu, Chittoor - APPCB</td>\n",
       "      <td>76</td>\n",
       "    </tr>\n",
       "    <tr>\n",
       "      <th>3</th>\n",
       "      <td>4</td>\n",
       "      <td>Andhra Pradesh</td>\n",
       "      <td>Kadapa</td>\n",
       "      <td>Yerramukkapalli, Kadapa - APPCB</td>\n",
       "      <td>44</td>\n",
       "    </tr>\n",
       "    <tr>\n",
       "      <th>4</th>\n",
       "      <td>5</td>\n",
       "      <td>Andhra Pradesh</td>\n",
       "      <td>Rajamahendravaram</td>\n",
       "      <td>Anand Kala Kshetram, Rajamahendravaram - APPCB</td>\n",
       "      <td>191</td>\n",
       "    </tr>\n",
       "    <tr>\n",
       "      <th>...</th>\n",
       "      <td>...</td>\n",
       "      <td>...</td>\n",
       "      <td>...</td>\n",
       "      <td>...</td>\n",
       "      <td>...</td>\n",
       "    </tr>\n",
       "    <tr>\n",
       "      <th>517</th>\n",
       "      <td>518</td>\n",
       "      <td>West Bengal</td>\n",
       "      <td>Kolkata</td>\n",
       "      <td>Jadavpur, Kolkata - WBPCB</td>\n",
       "      <td>184</td>\n",
       "    </tr>\n",
       "    <tr>\n",
       "      <th>518</th>\n",
       "      <td>519</td>\n",
       "      <td>West Bengal</td>\n",
       "      <td>Kolkata</td>\n",
       "      <td>Rabindra Bharati University, Kolkata - WBPCB</td>\n",
       "      <td>107</td>\n",
       "    </tr>\n",
       "    <tr>\n",
       "      <th>519</th>\n",
       "      <td>520</td>\n",
       "      <td>West Bengal</td>\n",
       "      <td>Kolkata</td>\n",
       "      <td>Rabindra Sarobar, Kolkata - WBPCB</td>\n",
       "      <td>162</td>\n",
       "    </tr>\n",
       "    <tr>\n",
       "      <th>520</th>\n",
       "      <td>521</td>\n",
       "      <td>West Bengal</td>\n",
       "      <td>Kolkata</td>\n",
       "      <td>Victoria, Kolkata - WBPCB</td>\n",
       "      <td>189</td>\n",
       "    </tr>\n",
       "    <tr>\n",
       "      <th>521</th>\n",
       "      <td>522</td>\n",
       "      <td>West Bengal</td>\n",
       "      <td>Siliguri</td>\n",
       "      <td>Ward-32 Bapupara, Siliguri - WBPCB</td>\n",
       "      <td>79</td>\n",
       "    </tr>\n",
       "  </tbody>\n",
       "</table>\n",
       "<p>522 rows × 5 columns</p>\n",
       "</div>"
      ],
      "text/plain": [
       "     S.No.           State               City  \\\n",
       "0        1  Andhra Pradesh          Amaravati   \n",
       "1        2  Andhra Pradesh          Anantapur   \n",
       "2        3  Andhra Pradesh           Chittoor   \n",
       "3        4  Andhra Pradesh             Kadapa   \n",
       "4        5  Andhra Pradesh  Rajamahendravaram   \n",
       "..     ...             ...                ...   \n",
       "517    518     West Bengal            Kolkata   \n",
       "518    519     West Bengal            Kolkata   \n",
       "519    520     West Bengal            Kolkata   \n",
       "520    521     West Bengal            Kolkata   \n",
       "521    522     West Bengal           Siliguri   \n",
       "\n",
       "                                       Station Name  \\\n",
       "0                    Secretariat, Amaravati - APPCB   \n",
       "1                      Gulzarpet, Anantapur - APPCB   \n",
       "2               Gangineni Cheruvu, Chittoor - APPCB   \n",
       "3                   Yerramukkapalli, Kadapa - APPCB   \n",
       "4    Anand Kala Kshetram, Rajamahendravaram - APPCB   \n",
       "..                                              ...   \n",
       "517                       Jadavpur, Kolkata - WBPCB   \n",
       "518    Rabindra Bharati University, Kolkata - WBPCB   \n",
       "519               Rabindra Sarobar, Kolkata - WBPCB   \n",
       "520                       Victoria, Kolkata - WBPCB   \n",
       "521              Ward-32 Bapupara, Siliguri - WBPCB   \n",
       "\n",
       "                                 Current AQI value  \n",
       "0                                              112  \n",
       "1    Insufficient data available in last 24 hours.  \n",
       "2                                               76  \n",
       "3                                               44  \n",
       "4                                              191  \n",
       "..                                             ...  \n",
       "517                                            184  \n",
       "518                                            107  \n",
       "519                                            162  \n",
       "520                                            189  \n",
       "521                                             79  \n",
       "\n",
       "[522 rows x 5 columns]"
      ]
     },
     "execution_count": 36,
     "metadata": {},
     "output_type": "execute_result"
    }
   ],
   "source": [
    "df_231029_12"
   ]
  }
 ],
 "metadata": {
  "kernelspec": {
   "display_name": "env_desidata_v1",
   "language": "python",
   "name": "python3"
  },
  "language_info": {
   "codemirror_mode": {
    "name": "ipython",
    "version": 3
   },
   "file_extension": ".py",
   "mimetype": "text/x-python",
   "name": "python",
   "nbconvert_exporter": "python",
   "pygments_lexer": "ipython3",
   "version": "3.10.12"
  }
 },
 "nbformat": 4,
 "nbformat_minor": 2
}
